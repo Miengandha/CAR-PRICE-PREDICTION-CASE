{
 "cells": [
  {
   "cell_type": "code",
   "execution_count": 1,
   "id": "197a1391",
   "metadata": {},
   "outputs": [],
   "source": [
    "import selenium\n",
    "import pandas as pd\n",
    "from selenium import webdriver\n",
    "import warnings\n",
    "warnings.filterwarnings('ignore')\n",
    "from selenium.common.exceptions import StaleElementReferenceException, NoSuchElementException\n",
    "from selenium.webdriver.common.by import By\n",
    "\n",
    "import time"
   ]
  },
  {
   "cell_type": "code",
   "execution_count": 2,
   "id": "3d2c91fe",
   "metadata": {},
   "outputs": [],
   "source": [
    "driver= webdriver.Chrome(r'C:\\Users\\user\\Downloads\\chromedriver_win32 (2)\\chromedriver.exe')\n",
    "time.sleep(2)"
   ]
  },
  {
   "cell_type": "code",
   "execution_count": 3,
   "id": "059f60ad",
   "metadata": {},
   "outputs": [],
   "source": [
    "url='https://www.cardekho.com/used-cars+in+new-delhi'\n",
    "driver.get(url)"
   ]
  },
  {
   "cell_type": "code",
   "execution_count": 4,
   "id": "5c041c7d",
   "metadata": {},
   "outputs": [],
   "source": [
    "car_name=[]\n",
    "car_variant=[]\n",
    "car_price=[]\n",
    "car_distance=[]\n",
    "car_fuel=[]\n",
    "car_work=[]\n",
    "car_customer_care=[]\n",
    "time.sleep(2)"
   ]
  },
  {
   "cell_type": "code",
   "execution_count": 5,
   "id": "005fab2e",
   "metadata": {},
   "outputs": [],
   "source": [
    "time.sleep(4)\n",
    "car_n=driver.find_elements(By.XPATH,\"//div[@class='gsc_col-xs-7  carsName']\")\n",
    "for i in car_n[0:5000]:\n",
    "    car_name.append(i.text.split('\\n')[0]) \n",
    "\n",
    "    \n",
    "car_v=driver.find_elements(By.XPATH,\"//div[@class='gsc_col-xs-7  carsName']\")\n",
    "for j in car_v[0:5000]:\n",
    "    car_variant.append(j.text.split('\\n')[1])\n",
    "\n",
    "car_p=driver.find_elements(By.XPATH,\"//div[@class='gsc_col-xs-7  carsName']\")\n",
    "for k in car_p[0:5000]:\n",
    "    car_price.append(k.text.split('\\n')[2])\n",
    "\n",
    "    \n",
    "car_d=driver.find_elements(By.XPATH,\"//div[@class='gsc_col-xs-7  carsName']\")\n",
    "for l in car_d[0:5000]:\n",
    "    car_distance.append(l.text.split('\\n')[3])\n",
    "\n",
    "    \n",
    "car_f=driver.find_elements(By.XPATH,\"//div[@class='gsc_col-xs-7  carsName']\")\n",
    "for m in car_f[0:5000]:\n",
    "    car_fuel.append(m.text.split('\\n')[4])\n",
    "\n",
    "car_w=driver.find_elements(By.XPATH,\"//div[@class='gsc_col-xs-7  carsName']\")\n",
    "for n in car_w[0:5000]:\n",
    "    car_work.append(n.text.split('\\n')[5])\n",
    "\n",
    "    \n",
    "car_cc=driver.find_elements(By.XPATH,\"//div[@class='gsc_col-xs-7  carsName']\")\n",
    "for o in car_cc[0:5000]:\n",
    "    car_customer_care.append(o.text.split('\\n')[6])\n"
   ]
  },
  {
   "cell_type": "code",
   "execution_count": 6,
   "id": "b6b8f81f",
   "metadata": {},
   "outputs": [
    {
     "data": {
      "text/plain": [
       "(3394, 3394, 3394, 3394, 3394, 3394, 3394)"
      ]
     },
     "execution_count": 6,
     "metadata": {},
     "output_type": "execute_result"
    }
   ],
   "source": [
    "len(car_name),len(car_variant),len(car_price),len(car_distance),len(car_fuel),len(car_work),len(car_customer_care)"
   ]
  },
  {
   "cell_type": "markdown",
   "id": "6ee91a19",
   "metadata": {},
   "source": [
    "Note: it is showing 3394 results instead of 5000 because of its website at last  it says that is all folks"
   ]
  },
  {
   "cell_type": "code",
   "execution_count": 7,
   "id": "f02255df",
   "metadata": {
    "scrolled": false
   },
   "outputs": [
    {
     "data": {
      "text/html": [
       "<div>\n",
       "<style scoped>\n",
       "    .dataframe tbody tr th:only-of-type {\n",
       "        vertical-align: middle;\n",
       "    }\n",
       "\n",
       "    .dataframe tbody tr th {\n",
       "        vertical-align: top;\n",
       "    }\n",
       "\n",
       "    .dataframe thead th {\n",
       "        text-align: right;\n",
       "    }\n",
       "</style>\n",
       "<table border=\"1\" class=\"dataframe\">\n",
       "  <thead>\n",
       "    <tr style=\"text-align: right;\">\n",
       "      <th></th>\n",
       "      <th>BRAND</th>\n",
       "      <th>VARIANT</th>\n",
       "      <th>PRICE</th>\n",
       "      <th>DISTANCE</th>\n",
       "      <th>FUEL</th>\n",
       "      <th>How it WORK</th>\n",
       "      <th>CUSTOMER CARE</th>\n",
       "    </tr>\n",
       "  </thead>\n",
       "  <tbody>\n",
       "    <tr>\n",
       "      <th>0</th>\n",
       "      <td>2018 Maruti Alto 800</td>\n",
       "      <td>LXI</td>\n",
       "      <td>₹3.15 Lakh</td>\n",
       "      <td>44,711 kms</td>\n",
       "      <td>Petrol</td>\n",
       "      <td>Manual</td>\n",
       "      <td>Trustmark</td>\n",
       "    </tr>\n",
       "    <tr>\n",
       "      <th>1</th>\n",
       "      <td>2016 Mahindra XUV500</td>\n",
       "      <td>W10 1.99 mHawk</td>\n",
       "      <td>₹9.10 Lakh₹ 10,68,500Save ₹1,58,500</td>\n",
       "      <td>1,08,939 kms</td>\n",
       "      <td>Diesel</td>\n",
       "      <td>Manual</td>\n",
       "      <td>Trustmark</td>\n",
       "    </tr>\n",
       "    <tr>\n",
       "      <th>2</th>\n",
       "      <td>2019 Maruti Ciaz</td>\n",
       "      <td>Alpha BSIV</td>\n",
       "      <td>₹9.34 Lakh₹ 9,40,000Save ₹6,000</td>\n",
       "      <td>33,206 kms</td>\n",
       "      <td>Petrol</td>\n",
       "      <td>Manual</td>\n",
       "      <td>Trustmark</td>\n",
       "    </tr>\n",
       "    <tr>\n",
       "      <th>3</th>\n",
       "      <td>2021 Nissan Kicks</td>\n",
       "      <td>1.5 XV</td>\n",
       "      <td>₹9.52 Lakh₹ 10,59,000Save ₹1,07,000</td>\n",
       "      <td>9,799 kms</td>\n",
       "      <td>Petrol</td>\n",
       "      <td>Manual</td>\n",
       "      <td>Trustmark</td>\n",
       "    </tr>\n",
       "    <tr>\n",
       "      <th>4</th>\n",
       "      <td>2019 Maruti Ciaz</td>\n",
       "      <td>Delta BSIV</td>\n",
       "      <td>₹8.17 Lakh₹ 8,26,000Save ₹9,000</td>\n",
       "      <td>34,474 kms</td>\n",
       "      <td>Petrol</td>\n",
       "      <td>Manual</td>\n",
       "      <td>Trustmark</td>\n",
       "    </tr>\n",
       "    <tr>\n",
       "      <th>...</th>\n",
       "      <td>...</td>\n",
       "      <td>...</td>\n",
       "      <td>...</td>\n",
       "      <td>...</td>\n",
       "      <td>...</td>\n",
       "      <td>...</td>\n",
       "      <td>...</td>\n",
       "    </tr>\n",
       "    <tr>\n",
       "      <th>3389</th>\n",
       "      <td>2017 Mahindra Scorpio</td>\n",
       "      <td>1.99 S4 Plus</td>\n",
       "      <td>₹8.00 Lakh</td>\n",
       "      <td>10,000 kms</td>\n",
       "      <td>Diesel</td>\n",
       "      <td>Manual</td>\n",
       "      <td>Partner</td>\n",
       "    </tr>\n",
       "    <tr>\n",
       "      <th>3390</th>\n",
       "      <td>2020 Maruti S-Presso</td>\n",
       "      <td>VXI</td>\n",
       "      <td>₹5.00 Lakh</td>\n",
       "      <td>10,000 kms</td>\n",
       "      <td>Petrol</td>\n",
       "      <td>Manual</td>\n",
       "      <td>Partner</td>\n",
       "    </tr>\n",
       "    <tr>\n",
       "      <th>3391</th>\n",
       "      <td>2017 Maruti Wagon R</td>\n",
       "      <td>CNG LXI</td>\n",
       "      <td>₹3.74 Lakh</td>\n",
       "      <td>75,000 kms</td>\n",
       "      <td>CNG</td>\n",
       "      <td>Manual</td>\n",
       "      <td>Partner</td>\n",
       "    </tr>\n",
       "    <tr>\n",
       "      <th>3392</th>\n",
       "      <td>2018 Renault KWID</td>\n",
       "      <td>1.0 RXT Optional</td>\n",
       "      <td>₹3.26 Lakh</td>\n",
       "      <td>24,000 kms</td>\n",
       "      <td>Petrol</td>\n",
       "      <td>Manual</td>\n",
       "      <td>Partner</td>\n",
       "    </tr>\n",
       "    <tr>\n",
       "      <th>3393</th>\n",
       "      <td>2018 Hyundai Creta</td>\n",
       "      <td>1.4 E Plus</td>\n",
       "      <td>₹9.50 Lakh</td>\n",
       "      <td>68,000 kms</td>\n",
       "      <td>Diesel</td>\n",
       "      <td>Manual</td>\n",
       "      <td>Partner</td>\n",
       "    </tr>\n",
       "  </tbody>\n",
       "</table>\n",
       "<p>3394 rows × 7 columns</p>\n",
       "</div>"
      ],
      "text/plain": [
       "                      BRAND           VARIANT  \\\n",
       "0      2018 Maruti Alto 800               LXI   \n",
       "1      2016 Mahindra XUV500    W10 1.99 mHawk   \n",
       "2          2019 Maruti Ciaz        Alpha BSIV   \n",
       "3         2021 Nissan Kicks            1.5 XV   \n",
       "4          2019 Maruti Ciaz        Delta BSIV   \n",
       "...                     ...               ...   \n",
       "3389  2017 Mahindra Scorpio      1.99 S4 Plus   \n",
       "3390   2020 Maruti S-Presso               VXI   \n",
       "3391    2017 Maruti Wagon R           CNG LXI   \n",
       "3392      2018 Renault KWID  1.0 RXT Optional   \n",
       "3393     2018 Hyundai Creta        1.4 E Plus   \n",
       "\n",
       "                                    PRICE      DISTANCE    FUEL How it WORK  \\\n",
       "0                              ₹3.15 Lakh    44,711 kms  Petrol      Manual   \n",
       "1     ₹9.10 Lakh₹ 10,68,500Save ₹1,58,500  1,08,939 kms  Diesel      Manual   \n",
       "2         ₹9.34 Lakh₹ 9,40,000Save ₹6,000    33,206 kms  Petrol      Manual   \n",
       "3     ₹9.52 Lakh₹ 10,59,000Save ₹1,07,000     9,799 kms  Petrol      Manual   \n",
       "4         ₹8.17 Lakh₹ 8,26,000Save ₹9,000    34,474 kms  Petrol      Manual   \n",
       "...                                   ...           ...     ...         ...   \n",
       "3389                           ₹8.00 Lakh    10,000 kms  Diesel      Manual   \n",
       "3390                           ₹5.00 Lakh    10,000 kms  Petrol      Manual   \n",
       "3391                           ₹3.74 Lakh    75,000 kms     CNG      Manual   \n",
       "3392                           ₹3.26 Lakh    24,000 kms  Petrol      Manual   \n",
       "3393                           ₹9.50 Lakh    68,000 kms  Diesel      Manual   \n",
       "\n",
       "     CUSTOMER CARE  \n",
       "0        Trustmark  \n",
       "1        Trustmark  \n",
       "2        Trustmark  \n",
       "3        Trustmark  \n",
       "4        Trustmark  \n",
       "...            ...  \n",
       "3389       Partner  \n",
       "3390       Partner  \n",
       "3391       Partner  \n",
       "3392       Partner  \n",
       "3393       Partner  \n",
       "\n",
       "[3394 rows x 7 columns]"
      ]
     },
     "execution_count": 7,
     "metadata": {},
     "output_type": "execute_result"
    }
   ],
   "source": [
    "df=pd.DataFrame({'BRAND':car_name,'VARIANT':car_variant,'PRICE':car_price,'DISTANCE':car_distance,'FUEL':car_fuel,'How it WORK':car_work,'CUSTOMER CARE':car_customer_care})\n",
    "df"
   ]
  },
  {
   "cell_type": "code",
   "execution_count": 9,
   "id": "ec678aec",
   "metadata": {},
   "outputs": [],
   "source": [
    "df.to_csv(r'C:\\Users\\user\\Desktop\\FRTech Internship Project\\carprediction\\car prediction.csv')"
   ]
  },
  {
   "cell_type": "code",
   "execution_count": 10,
   "id": "c2b48782",
   "metadata": {},
   "outputs": [],
   "source": [
    "driver.close()"
   ]
  },
  {
   "cell_type": "markdown",
   "id": "d777801a",
   "metadata": {},
   "source": [
    "# "
   ]
  },
  {
   "cell_type": "markdown",
   "id": "dca9b9d3",
   "metadata": {},
   "source": [
    "#             THANK YOU"
   ]
  }
 ],
 "metadata": {
  "kernelspec": {
   "display_name": "Python 3 (ipykernel)",
   "language": "python",
   "name": "python3"
  },
  "language_info": {
   "codemirror_mode": {
    "name": "ipython",
    "version": 3
   },
   "file_extension": ".py",
   "mimetype": "text/x-python",
   "name": "python",
   "nbconvert_exporter": "python",
   "pygments_lexer": "ipython3",
   "version": "3.9.12"
  }
 },
 "nbformat": 4,
 "nbformat_minor": 5
}
